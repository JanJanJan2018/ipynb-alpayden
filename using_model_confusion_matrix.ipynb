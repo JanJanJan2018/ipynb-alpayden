{
 "cells": [
  {
   "cell_type": "markdown",
   "metadata": {},
   "source": [
    "## Using the model to do predictions\n",
    "\n",
    "**NOTE: The code below, assumes that the model is already built and stored in variable <code>model</code>**\n",
    "\n",
    "Let's use the model we built and stored in `model`, to do some predictions.\n",
    "\n",
    "The second image in the testing dataset is used (`X_test[1]`), first, the image is shown using (`imshow()`), then predictions is made on the image. Recall that `X_test[1]` is list of 1D representations of the images, therefore, it needs to be converted back to a 2D of $28 \\times 28$ pixles before passed in to `imshow()` for display.\n",
    "\n",
    "Then, two prediction functions will be used:\n",
    "\n",
    "1- `model.predict()`: takes in a numpy array of 1D representation of an image, and produces the posterior probabilites of all possible classes, in our example, we have 10 classes corresponding to letters *a* to *j*.\n",
    "\n",
    "2- `model.predict_classes()`: takes in a numpy array of 1D representation of an image and process a class.\n"
   ]
  },
  {
   "cell_type": "code",
   "execution_count": 2,
   "metadata": {},
   "outputs": [
    {
     "name": "stdout",
     "output_type": "stream",
     "text": [
      "(28L, 28L, 18724L)\n",
      "(18724L, 784L)\n",
      "(18724L, 10L)\n"
     ]
    },
    {
     "name": "stderr",
     "output_type": "stream",
     "text": [
      "C:\\Users\\m\\Anaconda2\\lib\\site-packages\\ipykernel_launcher.py:16: FutureWarning: Method .as_matrix will be removed in a future version. Use .values instead.\n",
      "  app.launch_new_instance()\n"
     ]
    },
    {
     "data": {
      "text/plain": [
       "array([0.        , 0.00392157, 0.        , 0.        , 0.        ,\n",
       "       0.        , 0.        , 0.        , 0.        , 0.        ,\n",
       "       0.03137255, 0.16078432, 0.38039216, 0.6509804 , 0.87058824,\n",
       "       0.9764706 , 0.90588236, 0.6627451 , 0.4       , 0.11764706,\n",
       "       0.        , 0.00784314, 0.        , 0.        , 0.        ,\n",
       "       0.        , 0.        , 0.        , 0.        , 0.07450981,\n",
       "       0.3647059 , 0.44313726, 0.42745098, 0.4627451 , 0.5019608 ,\n",
       "       0.54509807, 0.6392157 , 0.77254903, 0.8627451 , 0.9607843 ,\n",
       "       1.        , 1.        , 1.        , 1.        , 1.        ,\n",
       "       0.99607843, 1.        , 0.94509804, 0.42352942, 0.        ,\n",
       "       0.00392157, 0.        , 0.        , 0.        , 0.        ,\n",
       "       0.        , 0.01176471, 0.654902  , 1.        , 0.9843137 ,\n",
       "       1.        , 1.        , 1.        , 1.        , 1.        ,\n",
       "       1.        , 1.        , 0.99607843, 0.98039216, 0.972549  ,\n",
       "       0.99215686, 1.        , 0.99607843, 0.9882353 , 0.99215686,\n",
       "       0.99215686, 1.        , 0.21568628, 0.        , 0.00784314,\n",
       "       0.        , 0.        , 0.        , 0.        , 0.05882353,\n",
       "       0.7529412 , 1.        , 0.98039216, 0.9764706 , 0.96862745,\n",
       "       0.96862745, 0.98039216, 0.99607843, 1.        , 1.        ,\n",
       "       1.        , 1.        , 1.        , 0.99607843, 1.        ,\n",
       "       1.        , 1.        , 1.        , 0.9843137 , 1.        ,\n",
       "       0.5372549 , 0.        , 0.00392157, 0.        , 0.        ,\n",
       "       0.        , 0.        , 0.        , 0.18039216, 0.74509805,\n",
       "       0.96862745, 1.        , 1.        , 1.        , 1.        ,\n",
       "       0.98039216, 0.9372549 , 0.85882354, 0.76862746, 0.6666667 ,\n",
       "       0.6627451 , 0.9372549 , 1.        , 0.99607843, 1.        ,\n",
       "       1.        , 0.99607843, 1.        , 0.85882354, 0.00392157,\n",
       "       0.        , 0.        , 0.        , 0.        , 0.        ,\n",
       "       0.        , 0.        , 0.        , 0.1254902 , 0.2784314 ,\n",
       "       0.3372549 , 0.3372549 , 0.24705882, 0.15294118, 0.07058824,\n",
       "       0.01960784, 0.        , 0.01568628, 0.        , 0.3764706 ,\n",
       "       1.        , 1.        , 0.99607843, 1.        , 1.        ,\n",
       "       1.        , 0.9764706 , 0.24705882, 0.        , 0.00784314,\n",
       "       0.        , 0.        , 0.        , 0.        , 0.00784314,\n",
       "       0.00392157, 0.        , 0.        , 0.        , 0.        ,\n",
       "       0.        , 0.        , 0.        , 0.        , 0.00392157,\n",
       "       0.01176471, 0.01568628, 0.        , 0.8117647 , 1.        ,\n",
       "       0.99607843, 1.        , 1.        , 0.99215686, 1.        ,\n",
       "       0.58431375, 0.        , 0.01568628, 0.        , 0.        ,\n",
       "       0.        , 0.        , 0.        , 0.00392157, 0.00392157,\n",
       "       0.01176471, 0.01568628, 0.01568628, 0.01176471, 0.00784314,\n",
       "       0.00392157, 0.00392157, 0.        , 0.        , 0.00784314,\n",
       "       0.        , 0.45882353, 1.        , 0.99607843, 1.        ,\n",
       "       1.        , 0.9882353 , 1.        , 0.8       , 0.03137255,\n",
       "       0.        , 0.00392157, 0.        , 0.        , 0.        ,\n",
       "       0.        , 0.        , 0.        , 0.        , 0.        ,\n",
       "       0.        , 0.        , 0.        , 0.        , 0.        ,\n",
       "       0.        , 0.        , 0.00392157, 0.        , 0.13725491,\n",
       "       0.9882353 , 1.        , 1.        , 1.        , 0.99607843,\n",
       "       1.        , 0.9764706 , 0.2901961 , 0.        , 0.01568628,\n",
       "       0.        , 0.        , 0.        , 0.        , 0.        ,\n",
       "       0.        , 0.        , 0.        , 0.        , 0.        ,\n",
       "       0.        , 0.        , 0.        , 0.        , 0.        ,\n",
       "       0.00392157, 0.        , 0.01960784, 0.6901961 , 1.        ,\n",
       "       0.9882353 , 1.        , 1.        , 0.98039216, 1.        ,\n",
       "       0.52156866, 0.        , 0.01568628, 0.        , 0.        ,\n",
       "       0.        , 0.        , 0.        , 0.        , 0.        ,\n",
       "       0.        , 0.        , 0.        , 0.        , 0.        ,\n",
       "       0.        , 0.        , 0.        , 0.        , 0.01176471,\n",
       "       0.        , 0.36862746, 1.        , 0.9843137 , 1.        ,\n",
       "       1.        , 0.9882353 , 1.        , 0.8       , 0.07450981,\n",
       "       0.        , 0.00392157, 0.        , 0.        , 0.        ,\n",
       "       0.        , 0.        , 0.        , 0.        , 0.        ,\n",
       "       0.        , 0.        , 0.        , 0.        , 0.        ,\n",
       "       0.        , 0.        , 0.00784314, 0.        , 0.15294118,\n",
       "       0.88235295, 1.        , 0.99215686, 1.        , 1.        ,\n",
       "       0.99215686, 1.        , 0.21960784, 0.        , 0.00784314,\n",
       "       0.        , 0.        , 0.        , 0.        , 0.        ,\n",
       "       0.        , 0.        , 0.        , 0.        , 0.        ,\n",
       "       0.        , 0.        , 0.        , 0.        , 0.        ,\n",
       "       0.00392157, 0.01176471, 0.        , 0.6666667 , 1.        ,\n",
       "       0.9843137 , 1.        , 1.        , 0.99215686, 1.        ,\n",
       "       0.5176471 , 0.        , 0.00392157, 0.        , 0.        ,\n",
       "       0.        , 0.        , 0.        , 0.        , 0.        ,\n",
       "       0.        , 0.        , 0.        , 0.        , 0.        ,\n",
       "       0.        , 0.        , 0.        , 0.        , 0.01568628,\n",
       "       0.        , 0.41568628, 1.        , 0.99607843, 0.99607843,\n",
       "       1.        , 0.99607843, 1.        , 0.85490197, 0.01176471,\n",
       "       0.        , 0.        , 0.        , 0.        , 0.        ,\n",
       "       0.        , 0.        , 0.        , 0.        , 0.        ,\n",
       "       0.        , 0.        , 0.        , 0.        , 0.        ,\n",
       "       0.00392157, 0.01176471, 0.01960784, 0.        , 0.20392157,\n",
       "       0.93333334, 1.        , 0.99607843, 1.        , 1.        ,\n",
       "       1.        , 0.98039216, 0.23137255, 0.        , 0.00392157,\n",
       "       0.        , 0.        , 0.        , 0.        , 0.        ,\n",
       "       0.        , 0.        , 0.        , 0.00392157, 0.00784314,\n",
       "       0.01568628, 0.01176471, 0.00392157, 0.        , 0.        ,\n",
       "       0.        , 0.00784314, 0.        , 0.8352941 , 1.        ,\n",
       "       0.99215686, 1.        , 1.        , 0.99215686, 1.        ,\n",
       "       0.5803922 , 0.        , 0.01568628, 0.        , 0.        ,\n",
       "       0.        , 0.        , 0.        , 0.00392157, 0.01176471,\n",
       "       0.01176471, 0.        , 0.        , 0.        , 0.        ,\n",
       "       0.00392157, 0.08235294, 0.2       , 0.31764707, 0.41960785,\n",
       "       0.43529412, 0.8666667 , 1.        , 0.99607843, 1.        ,\n",
       "       1.        , 0.9882353 , 1.        , 0.80784315, 0.01960784,\n",
       "       0.        , 0.        , 0.        , 0.        , 0.00392157,\n",
       "       0.01176471, 0.        , 0.        , 0.        , 0.01568628,\n",
       "       0.16862746, 0.3764706 , 0.5803922 , 0.7764706 , 0.92941177,\n",
       "       1.        , 1.        , 1.        , 1.        , 1.        ,\n",
       "       1.        , 0.99607843, 1.        , 1.        , 0.99607843,\n",
       "       1.        , 0.96862745, 0.28235295, 0.        , 0.        ,\n",
       "       0.00392157, 0.01568628, 0.00392157, 0.        , 0.03529412,\n",
       "       0.24705882, 0.5568628 , 0.8235294 , 0.98039216, 1.        ,\n",
       "       1.        , 1.        , 1.        , 1.        , 0.99607843,\n",
       "       1.        , 0.9411765 , 0.8235294 , 0.87058824, 1.        ,\n",
       "       0.99607843, 1.        , 1.        , 0.98039216, 1.        ,\n",
       "       0.52156866, 0.        , 0.00784314, 0.00784314, 0.        ,\n",
       "       0.05882353, 0.48235294, 0.85882354, 0.99607843, 1.        ,\n",
       "       1.        , 0.99607843, 0.9764706 , 0.98039216, 0.99607843,\n",
       "       1.        , 0.95686275, 0.70980394, 0.38431373, 0.12156863,\n",
       "       0.        , 0.07450981, 0.7921569 , 1.        , 0.9882353 ,\n",
       "       1.        , 0.9882353 , 1.        , 0.76862746, 0.07058824,\n",
       "       0.        , 0.03921569, 0.41960785, 0.88235295, 1.        ,\n",
       "       0.99607843, 0.99607843, 0.9882353 , 0.9843137 , 0.9882353 ,\n",
       "       1.        , 1.        , 0.84313726, 0.4862745 , 0.12941177,\n",
       "       0.        , 0.        , 0.        , 0.01960784, 0.        ,\n",
       "       0.4862745 , 1.        , 0.9882353 , 1.        , 0.99607843,\n",
       "       1.        , 0.9647059 , 0.18039216, 0.2901961 , 0.8392157 ,\n",
       "       1.        , 0.99607843, 0.9882353 , 0.99215686, 1.        ,\n",
       "       1.        , 1.        , 1.        , 0.7921569 , 0.32156864,\n",
       "       0.02745098, 0.        , 0.        , 0.00784314, 0.01568628,\n",
       "       0.00784314, 0.01568628, 0.        , 0.30588236, 0.972549  ,\n",
       "       1.        , 0.99607843, 1.        , 0.9882353 , 1.        ,\n",
       "       0.32941177, 0.98039216, 1.        , 0.9882353 , 0.99215686,\n",
       "       1.        , 1.        , 0.99607843, 1.        , 0.8509804 ,\n",
       "       0.29803923, 0.00392157, 0.        , 0.00392157, 0.02352941,\n",
       "       0.01960784, 0.01568628, 0.01568628, 0.01568628, 0.02745098,\n",
       "       0.        , 0.29411766, 0.96862745, 1.        , 0.99607843,\n",
       "       1.        , 0.99215686, 1.        , 0.5372549 , 0.93333334,\n",
       "       1.        , 0.99215686, 0.9843137 , 0.99607843, 1.        ,\n",
       "       0.9882353 , 1.        , 0.5803922 , 0.0627451 , 0.03529412,\n",
       "       0.00392157, 0.        , 0.        , 0.        , 0.        ,\n",
       "       0.        , 0.00392157, 0.00784314, 0.        , 0.5764706 ,\n",
       "       1.        , 0.9882353 , 1.        , 1.        , 0.99607843,\n",
       "       1.        , 0.70980394, 0.1764706 , 0.6784314 , 0.99215686,\n",
       "       1.        , 1.        , 0.9882353 , 0.9882353 , 0.99215686,\n",
       "       1.        , 0.96862745, 0.8784314 , 0.79607844, 0.6901961 ,\n",
       "       0.61960787, 0.5686275 , 0.5137255 , 0.4745098 , 0.45882353,\n",
       "       0.4862745 , 0.7294118 , 0.99215686, 1.        , 1.        ,\n",
       "       1.        , 1.        , 0.99607843, 1.        , 0.8666667 ,\n",
       "       0.        , 0.        , 0.21568628, 0.63529414, 0.9411765 ,\n",
       "       1.        , 0.99607843, 1.        , 1.        , 1.        ,\n",
       "       1.        , 1.        , 1.        , 1.        , 1.        ,\n",
       "       1.        , 1.        , 1.        , 1.        , 1.        ,\n",
       "       0.99607843, 1.        , 1.        , 0.99607843, 0.99607843,\n",
       "       0.9843137 , 1.        , 0.81960785, 0.01176471, 0.00784314,\n",
       "       0.        , 0.        , 0.09019608, 0.36078432, 0.6431373 ,\n",
       "       0.8392157 , 0.96862745, 1.        , 1.        , 1.        ,\n",
       "       1.        , 1.        , 1.        , 1.        , 0.99607843,\n",
       "       0.9882353 , 0.9843137 , 0.99215686, 1.        , 1.        ,\n",
       "       1.        , 1.        , 1.        , 0.99607843, 1.        ,\n",
       "       0.3882353 , 0.        , 0.        , 0.01176471, 0.01176471,\n",
       "       0.        , 0.00392157, 0.        , 0.03137255, 0.16862746,\n",
       "       0.28235295, 0.41960785, 0.5686275 , 0.7019608 , 0.8039216 ,\n",
       "       0.84313726, 0.8784314 , 0.9137255 , 0.9490196 , 0.9882353 ,\n",
       "       1.        , 0.99215686, 0.9843137 , 0.9647059 , 0.9254902 ,\n",
       "       0.84705883, 0.6862745 , 0.29411766, 0.        ], dtype=float32)"
      ]
     },
     "execution_count": 2,
     "metadata": {},
     "output_type": "execute_result"
    }
   ],
   "source": [
    "%matplotlib inline\n",
    "import matplotlib.pyplot as plt\n",
    "import pandas as pd\n",
    "import numpy as np\n",
    "from sklearn.model_selection import train_test_split\n",
    "from scipy.io import loadmat\n",
    "data = loadmat('notMNIST_small.mat')\n",
    "X_temp = data['images']/255\n",
    "\n",
    "#for i in range(X_temp.shape[2]):\n",
    "    \n",
    "X = np.empty(shape=[X_temp.shape[2]] + [784], dtype='float32')\n",
    "for i in range(X_temp.shape[2]):\n",
    "    X[i,:] = X_temp[:,:,i].flatten()\n",
    "\n",
    "y = pd.get_dummies(data['labels']).as_matrix()\n",
    "\n",
    "\n",
    "\n",
    "print X_temp.shape\n",
    "print X.shape\n",
    "print y.shape\n",
    "X[1,:]"
   ]
  },
  {
   "cell_type": "code",
   "execution_count": 3,
   "metadata": {},
   "outputs": [
    {
     "name": "stdout",
     "output_type": "stream",
     "text": [
      "(14979L, 784L)\n",
      "(14979L, 10L)\n"
     ]
    }
   ],
   "source": [
    "X_train, X_test, y_train, y_test = train_test_split(\n",
    "    X, y, test_size=0.2, random_state=50)\n",
    "print X_train.shape\n",
    "print y_train.shape"
   ]
  },
  {
   "cell_type": "code",
   "execution_count": 5,
   "metadata": {},
   "outputs": [
    {
     "name": "stderr",
     "output_type": "stream",
     "text": [
      "C:\\Users\\m\\Anaconda2\\lib\\site-packages\\ipykernel_launcher.py:16: UserWarning: Update your `Dense` call to the Keras 2 API: `Dense(activation=\"sigmoid\", input_shape=[784], kernel_regularizer=<keras.reg..., units=10)`\n",
      "  app.launch_new_instance()\n"
     ]
    }
   ],
   "source": [
    "from keras.models import Sequential\n",
    "from keras.layers import Dense\n",
    "from keras.regularizers import l2, l1\n",
    "from keras.optimizers import SGD\n",
    "from sklearn import preprocessing\n",
    "from sklearn.preprocessing import OneHotEncoder\n",
    "\n",
    "stdscaler = preprocessing.StandardScaler().fit(X_train)\n",
    "X_train_scaled = stdscaler.transform(X_train)\n",
    "X_test_scaled  = stdscaler.transform(X_test)\n",
    "\n",
    "# Stochastic Logistic Regression\n",
    "model = Sequential()\n",
    "\n",
    "# validation loss \n",
    "model.add(Dense(output_dim=10, input_shape=[784], \n",
    "                activation='sigmoid', W_regularizer=l2(0.01)))\n",
    "\n",
    "sgd = SGD(lr=0.1)\n",
    "model.compile(loss='categorical_crossentropy', optimizer=sgd)"
   ]
  },
  {
   "cell_type": "code",
   "execution_count": 6,
   "metadata": {},
   "outputs": [
    {
     "name": "stderr",
     "output_type": "stream",
     "text": [
      "C:\\Users\\m\\Anaconda2\\lib\\site-packages\\ipykernel_launcher.py:3: UserWarning: The `nb_epoch` argument in `fit` has been renamed `epochs`.\n",
      "  This is separate from the ipykernel package so we can avoid doing imports until\n"
     ]
    }
   ],
   "source": [
    "# Fit the model\n",
    "history = model.fit(X_train_scaled, y_train, batch_size = 256,\n",
    "          nb_epoch = 100, verbose=0, validation_data=(X_test_scaled,y_test))"
   ]
  },
  {
   "cell_type": "code",
   "execution_count": 7,
   "metadata": {},
   "outputs": [
    {
     "name": "stdout",
     "output_type": "stream",
     "text": [
      "Loss after final iteration:  0.503517628750591\n"
     ]
    },
    {
     "data": {
      "image/png": "[encoded data removed]",
      "text/plain": [
       "<Figure size 432x288 with 1 Axes>"
      ]
     },
     "metadata": {
      "needs_background": "light"
     },
     "output_type": "display_data"
    }
   ],
   "source": [
    "%matplotlib inline\n",
    "import matplotlib.pyplot as plt\n",
    "fig = plt.figure(figsize=(6,4))\n",
    "# # summarize history for loss\n",
    "plt.plot(history.history['loss'])\n",
    "plt.plot(history.history['val_loss'], 'g--')\n",
    "plt.title('Logistic Regression Model Loss')\n",
    "plt.ylabel('Categorical Crossentropy')\n",
    "plt.xlabel('Epoch')\n",
    "plt.legend(['Training Loss', 'Testing Loss'], loc='upper right')\n",
    "print \"Loss after final iteration: \", history.history['val_loss'][-1]\n",
    "plt.show()"
   ]
  },
  {
   "cell_type": "code",
   "execution_count": 9,
   "metadata": {},
   "outputs": [
    {
     "name": "stdout",
     "output_type": "stream",
     "text": [
      "posterior probabilities of each class: [[0.00111192 0.00469067 0.00185874 0.00356877 0.00159798 0.00078889\n",
      "  0.09568869 0.00030918 0.00183253 0.00181323]]\n",
      "predicted class (highest posterior): [6]\n"
     ]
    },
    {
     "data": {
      "image/png": "[encoded data removed]",
      "text/plain": [
       "<Figure size 432x288 with 1 Axes>"
      ]
     },
     "metadata": {
      "needs_background": "light"
     },
     "output_type": "display_data"
    }
   ],
   "source": [
    "#Let's try to use the model to predict the class of the 2nd element\n",
    "#in our testing data set (i.e., X_test[1])\n",
    "\n",
    "#In order to show it as an image, we need to convert it back to 2D (28 x 28)\n",
    "#array of pixles\n",
    "image_as_1D = X_test[1]\n",
    "image_as_2D = np.reshape(image_as_1D, (28, -1)) # 2nd dimension can be inferred\n",
    "\n",
    "plt.imshow(image_as_2D, cmap=\"gray\");\n",
    "\n",
    "#Using predict() and predict_classes\n",
    "#both functions, expect the 1D version of the image\n",
    "predicted = model.predict(np.array([image_as_1D]))\n",
    "predicted_class = model.predict_classes(np.array([image_as_1D]))\n",
    "print(\"posterior probabilities of each class: {}\".format(predicted))\n",
    "print(\"predicted class (highest posterior): {}\".format(predicted_class))\n"
   ]
  },
  {
   "cell_type": "markdown",
   "metadata": {},
   "source": [
    "## Generating the confusion matrix\n",
    "\n",
    "In order to create confusion matrix on the testing data set\n",
    "\n",
    "1- obtain true classes for images in the testing data set: recall that y_test is one-hot encoding of true class, need to be converted back a class, function, ohe_to_classes(y), will be used to do that. The function simply takes a list of one-hot encoded classes, and returns a list of scalars, scalars represent the index of the 1 value in each one-hot encoded class of y.\n",
    "\n",
    "2- use the model to predict classes of all images in the test data set (use .predict_classes)\n",
    "\n",
    "3- use functions, classification_report, confusion matrix, f1_score and accuracy_score from sklearn.metrics module as needed.\n"
   ]
  },
  {
   "cell_type": "code",
   "execution_count": 10,
   "metadata": {},
   "outputs": [],
   "source": [
    "import numpy as np\n",
    "def ohe_to_classes(y):\n",
    "    '''\n",
    "        converts one hot encoding to classes\n",
    "        y: a list of one-hot-encoded classes of data points\n",
    "    '''\n",
    "    return [np.argmax(v) for v in y]\n"
   ]
  },
  {
   "cell_type": "code",
   "execution_count": 11,
   "metadata": {},
   "outputs": [
    {
     "name": "stdout",
     "output_type": "stream",
     "text": [
      "class of data point 1: 1\n",
      "class of data point 2: 0\n"
     ]
    }
   ],
   "source": [
    "# Let's try it\n",
    "\n",
    "# an example of an array of one-hot-encoded classes, note that each row has exactly one value as 1.\n",
    "# this example represents 2 data points\n",
    "# Note that we have three classes in this example, class 0, 1, 2\n",
    "ohe_example= [[0, 1, 0], [1, 0, 0]]\n",
    "\n",
    "# the function converts the one-hot-encoding of the data sample class, to its class (0, 1, or 2)\n",
    "true_classes = ohe_to_classes(np.array(ohe_example))\n",
    "\n",
    "# true_classes is an 1D array of the sample data classes.\n",
    "print(\"class of data point 1: {}\".format(true_classes[0]))\n",
    "print(\"class of data point 2: {}\".format(true_classes[1]))\n",
    "      "
   ]
  },
  {
   "cell_type": "code",
   "execution_count": 13,
   "metadata": {
    "scrolled": true
   },
   "outputs": [
    {
     "name": "stdout",
     "output_type": "stream",
     "text": [
      "predicted classes: [5 6 3 ... 9 4 2]\n",
      "('accuracy', 0.8405874499332443)\n",
      "confusion matrix\n",
      "[[301   0   0   1   0   0   0   7   3   0]\n",
      " [ 13 332   4   7   5   2   8  11   4   7]\n",
      " [  0   0 276   0   3   0   0   0   0   0]\n",
      " [  4  15   4 331   0   4   8   6  12  12]\n",
      " [ 10  11  56   4 326  46  18  33  21  13]\n",
      " [  1   0   0   0   0 297   1   1   1   1]\n",
      " [  5   1  13   1   7   2 336   8   9   7]\n",
      " [  9   0   0   2   0   0   0 312   2   0]\n",
      " [ 13  12   8  11  15  23  12  23 357  46]\n",
      " [  3   0   0   1   1   1   0   1   4 280]]\n",
      "\n",
      "\n",
      "              precision    recall  f1-score   support\n",
      "\n",
      "           0       0.84      0.96      0.90       312\n",
      "           1       0.89      0.84      0.87       393\n",
      "           2       0.76      0.99      0.86       279\n",
      "           3       0.92      0.84      0.88       396\n",
      "           4       0.91      0.61      0.73       538\n",
      "           5       0.79      0.98      0.88       302\n",
      "           6       0.88      0.86      0.87       389\n",
      "           7       0.78      0.96      0.86       325\n",
      "           8       0.86      0.69      0.77       520\n",
      "           9       0.77      0.96      0.85       291\n",
      "\n",
      "   micro avg       0.84      0.84      0.84      3745\n",
      "   macro avg       0.84      0.87      0.85      3745\n",
      "weighted avg       0.85      0.84      0.84      3745\n",
      "\n"
     ]
    }
   ],
   "source": [
    "from sklearn.metrics import classification_report, f1_score, accuracy_score, confusion_matrix\n",
    "\n",
    "predicted_all = model.predict_classes(np.array(X_test))\n",
    "print(\"predicted classes: {}\".format(predicted_all))\n",
    "\n",
    "# Have to convert one-hot-encoding to actual classes: 0 - 9\n",
    "y_true_classes = ohe_to_classes(y_test)\n",
    "\n",
    "\n",
    "print('accuracy', accuracy_score(predicted_all, y_true_classes))\n",
    "confusion_mat = confusion_matrix(predicted_all, y_true_classes)\n",
    "print(\"confusion matrix\\n{}\\n\\n\".format(confusion_mat))\n",
    "\n",
    "print(classification_report(predicted_all, y_true_classes))\n"
   ]
  },
  {
   "cell_type": "code",
   "execution_count": null,
   "metadata": {},
   "outputs": [],
   "source": []
  }
 ],
 "metadata": {
  "kernelspec": {
   "display_name": "Python 2",
   "language": "python",
   "name": "python2"
  },
  "language_info": {
   "codemirror_mode": {
    "name": "ipython",
    "version": 2
   },
   "file_extension": ".py",
   "mimetype": "text/x-python",
   "name": "python",
   "nbconvert_exporter": "python",
   "pygments_lexer": "ipython2",
   "version": "2.7.16"
  }
 },
 "nbformat": 4,
 "nbformat_minor": 2
}
